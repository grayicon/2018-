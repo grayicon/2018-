{
 "cells": [
  {
   "cell_type": "markdown",
   "metadata": {},
   "source": [
    "# 任务二：根据特征预测恐怖组织\n",
    "\n",
    "**Author:** solid\n",
    "\n",
    "**Date:** Sep 17, 2018"
   ]
  },
  {
   "cell_type": "markdown",
   "metadata": {},
   "source": [
    "### 导入相关的包"
   ]
  },
  {
   "cell_type": "code",
   "execution_count": 1,
   "metadata": {},
   "outputs": [],
   "source": [
    "import time\n",
    "import collections\n",
    "\n",
    "import pandas as pd\n",
    "import numpy as np\n",
    "import matplotlib as mpl\n",
    "import matplotlib.pyplot as plt\n",
    "import seaborn as sns\n",
    "import warnings; warnings.simplefilter('ignore')\n",
    "\n",
    "from sklearn.preprocessing import scale\n",
    "from sklearn import preprocessing\n",
    "from sklearn.model_selection import train_test_split\n",
    "from sklearn.ensemble import RandomForestClassifier\n",
    "from sklearn.metrics import accuracy_score\n",
    "from sklearn.metrics import precision_score\n",
    "from sklearn.metrics import recall_score\n",
    "from sklearn.metrics import f1_score"
   ]
  },
  {
   "cell_type": "code",
   "execution_count": 2,
   "metadata": {},
   "outputs": [],
   "source": [
    "# Display up to 150 rows and columns\n",
    "pd.set_option('display.max_rows', 220)\n",
    "pd.set_option('display.max_columns', 150)\n",
    "\n",
    "# Set the figure size for plots\n",
    "mpl.rcParams['figure.figsize'] = (14.6, 9.0)\n",
    "\n",
    "# Set the Seaborn default style for plots\n",
    "sns.set()\n",
    "\n",
    "# Set the color palette\n",
    "sns.set_palette(sns.color_palette(\"muted\"))"
   ]
  },
  {
   "cell_type": "markdown",
   "metadata": {},
   "source": [
    "### 加载数据集\n",
    "加载预处理的数据集"
   ]
  },
  {
   "cell_type": "code",
   "execution_count": 3,
   "metadata": {},
   "outputs": [],
   "source": [
    "# Load the preprocessed GTD dataset\n",
    "gtd_df = pd.read_csv('gtd_eda_98t017.csv', low_memory=False, index_col = 0,\n",
    "                      na_values=[''])"
   ]
  },
  {
   "cell_type": "markdown",
   "metadata": {},
   "source": [
    "### 探索数据集结构\n",
    "清理的数据帧包含48个属性，其中一个用于数据帧索引，110,844个观察值。"
   ]
  },
  {
   "cell_type": "code",
   "execution_count": 4,
   "metadata": {},
   "outputs": [
    {
     "name": "stdout",
     "output_type": "stream",
     "text": [
      "<class 'pandas.core.frame.DataFrame'>\n",
      "Int64Index: 113247 entries, 199801010001 to 201712310032\n",
      "Data columns (total 48 columns):\n",
      "iyear               113247 non-null int64\n",
      "imonth              113247 non-null int64\n",
      "iday                113247 non-null int64\n",
      "country_txt         113247 non-null object\n",
      "region_txt          113247 non-null object\n",
      "provstate           113247 non-null object\n",
      "city                113247 non-null object\n",
      "latitude            113247 non-null float64\n",
      "longitude           113247 non-null float64\n",
      "specificity         113247 non-null float64\n",
      "summary             113247 non-null object\n",
      "attacktype1_txt     113247 non-null object\n",
      "targtype1_txt       113247 non-null object\n",
      "targsubtype1_txt    113247 non-null object\n",
      "corp1               113247 non-null object\n",
      "target1             113247 non-null object\n",
      "natlty1_txt         113247 non-null object\n",
      "gname               113247 non-null object\n",
      "nperpcap            113247 non-null float64\n",
      "weaptype1_txt       113247 non-null object\n",
      "weapsubtype1_txt    113247 non-null object\n",
      "nkill               113247 non-null float64\n",
      "nkillus             113247 non-null float64\n",
      "nkillter            113247 non-null float64\n",
      "nwound              113247 non-null float64\n",
      "nwoundus            113247 non-null float64\n",
      "nwoundte            113247 non-null float64\n",
      "scite1              113247 non-null object\n",
      "dbsource            113247 non-null object\n",
      "extended_txt        113247 non-null object\n",
      "vicinity_txt        113247 non-null object\n",
      "crit1_txt           113247 non-null object\n",
      "crit2_txt           113247 non-null object\n",
      "crit3_txt           113247 non-null object\n",
      "doubtterr_txt       113247 non-null object\n",
      "multiple_txt        113247 non-null object\n",
      "success_txt         113247 non-null object\n",
      "suicide_txt         113247 non-null object\n",
      "guncertain1_txt     113247 non-null object\n",
      "individual_txt      113247 non-null object\n",
      "claimed_txt         113247 non-null object\n",
      "property_txt        113247 non-null object\n",
      "ishostkid_txt       113247 non-null object\n",
      "INT_LOG_txt         113247 non-null object\n",
      "INT_IDEO_txt        113247 non-null object\n",
      "INT_MISC_txt        113247 non-null object\n",
      "INT_ANY_txt         113247 non-null object\n",
      "incident_date       113247 non-null object\n",
      "dtypes: float64(10), int64(3), object(35)\n",
      "memory usage: 42.3+ MB\n"
     ]
    }
   ],
   "source": [
    "# Display a summary of the data frame\n",
    "gtd_df.info(verbose = True)"
   ]
  },
  {
   "cell_type": "markdown",
   "metadata": {},
   "source": [
    "### 找到主要的恐怖组织名单\n",
    "获取有20次或更多次袭击的恐怖组织名单。"
   ]
  },
  {
   "cell_type": "code",
   "execution_count": 6,
   "metadata": {
    "scrolled": false
   },
   "outputs": [
    {
     "data": {
      "text/plain": [
       "Unknown                                                         59049\n",
       "Taliban                                                          7454\n",
       "Islamic State of Iraq and the Levant (ISIL)                      5583\n",
       "Al-Shabaab                                                       3274\n",
       "Boko Haram                                                       2408\n",
       "Communist Party of India - Maoist (CPI-Maoist)                   1876\n",
       "New People's Army (NPA)                                          1795\n",
       "Maoists                                                          1616\n",
       "Tehrik-i-Taliban Pakistan (TTP)                                  1349\n",
       "Revolutionary Armed Forces of Colombia (FARC)                    1295\n",
       "Kurdistan Workers' Party (PKK)                                   1267\n",
       "Houthi extremists (Ansar Allah)                                  1021\n",
       "Al-Qaida in the Arabian Peninsula (AQAP)                         1011\n",
       "Liberation Tigers of Tamil Eelam (LTTE)                           648\n",
       "Al-Qaida in Iraq                                                  635\n",
       "Donetsk People's Republic                                         623\n",
       "Muslim extremists                                                 603\n",
       "Fulani extremists                                                 509\n",
       "Abu Sayyaf Group (ASG)                                            499\n",
       "Sinai Province of the Islamic State                               445\n",
       "Palestinian Extremists                                            436\n",
       "National Liberation Army of Colombia (ELN)                        436\n",
       "Separatists                                                       415\n",
       "Bangsamoro Islamic Freedom Movement (BIFM)                        391\n",
       "Algerian Islamic Extremists                                       366\n",
       "Tripoli Province of the Islamic State                             350\n",
       "Khorasan Chapter of the Islamic State                             342\n",
       "Moro Islamic Liberation Front (MILF)                              321\n",
       "Chechen Rebels                                                    320\n",
       "Hamas (Islamic Resistance Movement)                               319\n",
       "United Liberation Front of Assam (ULFA)                           318\n",
       "Baloch Republican Army (BRA)                                      312\n",
       "Lord's Resistance Army (LRA)                                      281\n",
       "Al-Nusrah Front                                                   268\n",
       "Al-Qaida in the Islamic Maghreb (AQIM)                            253\n",
       "Basque Fatherland and Freedom (ETA)                               248\n",
       "Gunmen                                                            238\n",
       "Janjaweed                                                         211\n",
       "Luhansk People's Republic                                         209\n",
       "Salafist Group for Preaching and Fighting (GSPC)                  208\n",
       "Allied Democratic Forces (ADF)                                    205\n",
       "Lashkar-e-Taiba (LeT)                                             188\n",
       "Hizbul Mujahideen (HM)                                            186\n",
       "Baloch Liberation Front (BLF)                                     185\n",
       "Baloch Liberation Army (BLA)                                      181\n",
       "Al-Aqsa Martyrs Brigade                                           170\n",
       "Garo National Liberation Army                                     166\n",
       "Palestinian Islamic Jihad (PIJ)                                   165\n",
       "National Democratic Front of Bodoland (NDFB)                      154\n",
       "Barqa Province of the Islamic State                               151\n",
       "Runda Kumpulan Kecil (RKK)                                        150\n",
       "Islamic State of Iraq (ISI)                                       145\n",
       "Lashkar-e-Jhangvi                                                 138\n",
       "Corsican National Liberation Front (FLNC)                         132\n",
       "Tribesmen                                                         129\n",
       "National Union for the Total Independence of Angola (UNITA)       129\n",
       "Lashkar-e-Islam (Pakistan)                                        123\n",
       "Free Syrian Army                                                  120\n",
       "Hezbollah                                                         117\n",
       "Armed Islamic Group (GIA)                                         110\n",
       "Mozambique National Resistance Movement (MNR)                     109\n",
       "Free Aceh Movement (GAM)                                          108\n",
       "Sudan People's Liberation Movement in Opposition (SPLM-IO)        101\n",
       "Democratic Front for the Liberation of Rwanda (FDLR)               99\n",
       "Jihadi-inspired extremists                                         98\n",
       "Dissident Republicans                                              95\n",
       "Pro Hartal Activists                                               92\n",
       "National Socialist Council of Nagaland-Isak-Muivah (NSCN-IM)       89\n",
       "United Baloch Army (UBA)                                           89\n",
       "Communist Party of Nepal - Maoist (CPN-Maoist-Chand)               89\n",
       "Haqqani Network                                                    86\n",
       "Anarchists                                                         85\n",
       "Barisan Revolusi Nasional (BRN)                                    84\n",
       "Janatantrik Terai Mukti Morcha- Jwala Singh (JTMM-J)               78\n",
       "Movement for the Emancipation of the Niger Delta (MEND)            78\n",
       "People's Liberation Army (India)                                   78\n",
       "Anti-Muslim extremists                                             77\n",
       "Jemaah Islamiya (JI)                                               76\n",
       "Militants                                                          75\n",
       "Animal Liberation Front (ALF)                                      73\n",
       "National Liberation Front of Tripura (NLFT)                        73\n",
       "Ansar Bayt al-Maqdis (Ansar Jerusalem)                             72\n",
       "Al-Qaida                                                           71\n",
       "Anti-Balaka Militia                                                70\n",
       "Earth Liberation Front (ELF)                                       70\n",
       "Paraguayan People's Army (EPP)                                     69\n",
       "Mayi Mayi                                                          68\n",
       "Asa'ib Ahl al-Haqq                                                 67\n",
       "People's Liberation Front of India                                 67\n",
       "Gorkha Janmukti Morcha (GJM)                                       67\n",
       "Ansar al-Sharia (Libya)                                            65\n",
       "United Self Defense Units of Colombia (AUC)                        64\n",
       "People's War Group (PWG)                                           62\n",
       "Popular Front for the Liberation of Palestine (PFLP)               60\n",
       "Shining Path (SL)                                                  60\n",
       "Jamaat Nusrat al-Islam wal Muslimin (JNIM)                         59\n",
       "Sudan People's Liberation Movement - North                         59\n",
       "Southern Mobility Movement (Yemen)                                 58\n",
       "Thai Islamic Militants                                             58\n",
       "Jamaat-E-Islami (Bangladesh)                                       58\n",
       "Sindhu Desh Liberation Army (SDLA)                                 57\n",
       "National Socialist Council of Nagaland-Khaplang (NSCN-K)           57\n",
       "Conspiracy of Cells of Fire                                        57\n",
       "Ansar al-Dine (Mali)                                               54\n",
       "Bangladesh Nationalist Party (BNP)                                 53\n",
       "Indian Mujahideen                                                  52\n",
       "Niger Delta Avengers (NDA)                                         50\n",
       "Movement for Oneness and Jihad in West Africa (MUJAO)              50\n",
       "Hutu extremists                                                    49\n",
       "Oglaigh na hEireann                                                48\n",
       "Adan-Abyan Province of the Islamic State                           47\n",
       "Patriotic Resistance Front in Ituri (FRPI)                         47\n",
       "Arakan Rohingya Salvation Army (ARSA)                              46\n",
       "Popular Resistance Committees                                      46\n",
       "Albanian extremists                                                46\n",
       "Informal Anarchist Federation                                      45\n",
       "Islamist extremists                                                45\n",
       "Kosovo Liberation Army (KLA)                                       44\n",
       "Caucasus Emirate                                                   44\n",
       "The New Irish Republican Army                                      44\n",
       "Tawhid and Jihad                                                   44\n",
       "Real Irish Republican Army (RIRA)                                  41\n",
       "Kangleipak Communist Party (KCP)                                   39\n",
       "Anti-Government extremists                                         39\n",
       "Hay'at Tahrir al-Sham                                              39\n",
       "Taliban (Pakistan)                                                 37\n",
       "Jaish-e-Mohammad (JeM)                                             37\n",
       "Hizb-I-Islami                                                      37\n",
       "Party for the Liberation of the Hutu People (PALIPEHUTU)           37\n",
       "Jama'atul Mujahideen Bangladesh (JMB)                              37\n",
       "Irish Republican Army (IRA)                                        37\n",
       "Free Papua Movement (OPM-Organisasi Papua Merdeka)                 37\n",
       "Muslim Brotherhood                                                 36\n",
       "Naxalites                                                          36\n",
       "Al-Naqshabandiya Army                                              35\n",
       "Islamic State in Bangladesh                                        35\n",
       "Uighur Separatists                                                 35\n",
       "Devrimici Halk Kurtulus Cephesi (DHKP/C)                           35\n",
       "National Liberation Army (NLA) (Macedonia)                         35\n",
       "Islamic Front (Syria)                                              35\n",
       "Baloch Nationalists                                                34\n",
       "Muslim Separatists                                                 34\n",
       "Janatantrik Terai Mukti Morcha- Goit (JTMM-G)                      34\n",
       "Israeli extremists                                                 34\n",
       "Karen National Union                                               34\n",
       "Communist Party of Nepal-Maoist (Baidya)                           34\n",
       "Anti-Abortion extremists                                           34\n",
       "Israeli settlers                                                   33\n",
       "Seleka                                                             32\n",
       "Janatantrik Terai Mukti Morcha (JTMM)                              32\n",
       "Ajnad Misr                                                         32\n",
       "Loyalists                                                          32\n",
       "National Liberation Front (FNL) (Burundi)                          32\n",
       "Revolutionary United Front (RUF)                                   31\n",
       "Kachin Independence Army (KIA)                                     31\n",
       "Jaysh al-Islam (Syria)                                             31\n",
       "Maute Group                                                        31\n",
       "Lashkar-e-Balochistan                                              31\n",
       "United National Liberation Front (UNLF)                            30\n",
       "Kurdistan Freedom Hawks (TAK)                                      30\n",
       "People's Revolutionary Party of Kangleipak (PREPAK)                30\n",
       "Sanaa Province of the Islamic State                                30\n",
       "Movement of Democratic Forces of Casamance                         29\n",
       "Southern Front                                                     29\n",
       "Ta'ang National Liberation Army (TNLA)                             29\n",
       "Ansar al-Islam                                                     28\n",
       "Balochistan Liberation United Front (BLUF)                         28\n",
       "Al-Fatah                                                           28\n",
       "White extremists                                                   27\n",
       "Ahrar al-Sham                                                      27\n",
       "Azawad National Liberation Movement (MNLA)                         27\n",
       "Right-wing extremists                                              26\n",
       "Anti-Semitic extremists                                            26\n",
       "Maoist Communist Center (MCC)                                      26\n",
       "Popular Liberation Army (EPL)                                      26\n",
       "Abdullah Azzam Brigades                                            26\n",
       "Murle Tribe                                                        26\n",
       "Continuity Irish Republican Army (CIRA)                            25\n",
       "Nyatura Militia                                                    25\n",
       "Rebels                                                             25\n",
       "Popular Resistance Committees (Yemen)                              25\n",
       "Haftar Militia                                                     25\n",
       "Jaish-e-Islam                                                      24\n",
       "Neo-Nazi extremists                                                24\n",
       "Dima Halao Daoga (DHD)                                             24\n",
       "Sudan People's Liberation Army (SPLA)                              24\n",
       "Pattani United Liberation Organization (PULO)                      24\n",
       "Sunni Muslim extremists                                            24\n",
       "United Front for Democracy Against Dictatorship                    24\n",
       "Halqa-e-Mehsud                                                     23\n",
       "Revolutionary Struggle                                             23\n",
       "Red Hand Defenders (RHD)                                           23\n",
       "Palestinians                                                       23\n",
       "Mujahideen Youth Movement (MYM)                                    22\n",
       "People's Committee against Police Atrocities (PCPA)                22\n",
       "Islamic State in Egypt                                             22\n",
       "Communist Party of Nepal- Maoist (CPN-M)                           22\n",
       "Sindhudesh Revolutionary Army (SRA)                                22\n",
       "Coordination Committee (CORCOM)                                    21\n",
       "Mujahidin Indonesia Timur (MIT)                                    21\n",
       "Mujahedin-e Khalq (MEK)                                            21\n",
       "Awami League                                                       21\n",
       "Muslim Militants                                                   21\n",
       "Kamwina Nsapu Militia                                              21\n",
       "Moro National Liberation Front (MNLF)                              20\n",
       "Military Council of the Tribal Revolutionaries (MCTR)              20\n",
       "Revolutionary Armed Forces of Colombia (FARC) dissidents           20\n",
       "Rohingya extremists                                                20\n",
       "Jundallah (Pakistan)                                               20\n",
       "Democratic Front for the Liberation of Palestine (DFLP)            20\n",
       "Karbi People's Liberation Tigers (KPLT)                            20\n",
       "Name: gname, dtype: int64"
      ]
     },
     "execution_count": 6,
     "metadata": {},
     "output_type": "execute_result"
    }
   ],
   "source": [
    "# Calculate the number of attacks by group\n",
    "groups = gtd_df['gname'].value_counts()\n",
    "\n",
    "# Include groups with at least 20 attacks\n",
    "groups = groups[groups > 19]\n",
    "\n",
    "# Exclude unknown groups\n",
    "#group_list = groups.index[groups.index != 'Unknown']\n",
    "group_list = groups.index\n",
    "\n",
    "# Subset the data to major groups\n",
    "major_groups = gtd_df[gtd_df['gname'].isin(group_list)]\n",
    "\n",
    "# Display the number of attacks by group\n",
    "major_groups['gname'].value_counts()"
   ]
  },
  {
   "cell_type": "markdown",
   "metadata": {},
   "source": [
    "### 去掉包含文本和时间的属性\n",
    "删除text和datetime属性，这些属性不会在模型中使用。"
   ]
  },
  {
   "cell_type": "code",
   "execution_count": 7,
   "metadata": {},
   "outputs": [
    {
     "name": "stdout",
     "output_type": "stream",
     "text": [
      "<class 'pandas.core.frame.DataFrame'>\n",
      "Int64Index: 108901 entries, 199801010001 to 201712310032\n",
      "Data columns (total 40 columns):\n",
      "iyear               108901 non-null int64\n",
      "imonth              108901 non-null int64\n",
      "iday                108901 non-null int64\n",
      "country_txt         108901 non-null category\n",
      "region_txt          108901 non-null category\n",
      "latitude            108901 non-null float64\n",
      "longitude           108901 non-null float64\n",
      "specificity         108901 non-null category\n",
      "attacktype1_txt     108901 non-null category\n",
      "targtype1_txt       108901 non-null category\n",
      "targsubtype1_txt    108901 non-null category\n",
      "natlty1_txt         108901 non-null category\n",
      "gname               108901 non-null object\n",
      "nperpcap            108901 non-null float64\n",
      "weaptype1_txt       108901 non-null category\n",
      "weapsubtype1_txt    108901 non-null category\n",
      "nkill               108901 non-null float64\n",
      "nkillus             108901 non-null float64\n",
      "nkillter            108901 non-null float64\n",
      "nwound              108901 non-null float64\n",
      "nwoundus            108901 non-null float64\n",
      "nwoundte            108901 non-null float64\n",
      "extended_txt        108901 non-null category\n",
      "vicinity_txt        108901 non-null category\n",
      "crit1_txt           108901 non-null category\n",
      "crit2_txt           108901 non-null category\n",
      "crit3_txt           108901 non-null category\n",
      "doubtterr_txt       108901 non-null category\n",
      "multiple_txt        108901 non-null category\n",
      "success_txt         108901 non-null category\n",
      "suicide_txt         108901 non-null category\n",
      "guncertain1_txt     108901 non-null category\n",
      "individual_txt      108901 non-null category\n",
      "claimed_txt         108901 non-null category\n",
      "property_txt        108901 non-null category\n",
      "ishostkid_txt       108901 non-null category\n",
      "INT_LOG_txt         108901 non-null category\n",
      "INT_IDEO_txt        108901 non-null category\n",
      "INT_MISC_txt        108901 non-null category\n",
      "INT_ANY_txt         108901 non-null category\n",
      "dtypes: category(27), float64(9), int64(3), object(1)\n",
      "memory usage: 14.7+ MB\n"
     ]
    }
   ],
   "source": [
    "major_groups = major_groups.drop(['provstate', 'city', 'summary', 'corp1', 'target1',\n",
    "                                  'scite1', 'dbsource', 'incident_date'], axis=1)\n",
    "\n",
    "major_groups.info(verbose = True)"
   ]
  },
  {
   "cell_type": "markdown",
   "metadata": {},
   "source": [
    "### 归一化数值属性\n",
    "调整数值属性范围的差异。"
   ]
  },
  {
   "cell_type": "code",
   "execution_count": 8,
   "metadata": {},
   "outputs": [
    {
     "data": {
      "text/html": [
       "<div>\n",
       "<style scoped>\n",
       "    .dataframe tbody tr th:only-of-type {\n",
       "        vertical-align: middle;\n",
       "    }\n",
       "\n",
       "    .dataframe tbody tr th {\n",
       "        vertical-align: top;\n",
       "    }\n",
       "\n",
       "    .dataframe thead th {\n",
       "        text-align: right;\n",
       "    }\n",
       "</style>\n",
       "<table border=\"1\" class=\"dataframe\">\n",
       "  <thead>\n",
       "    <tr style=\"text-align: right;\">\n",
       "      <th></th>\n",
       "      <th>count</th>\n",
       "      <th>mean</th>\n",
       "      <th>std</th>\n",
       "      <th>min</th>\n",
       "      <th>25%</th>\n",
       "      <th>50%</th>\n",
       "      <th>75%</th>\n",
       "      <th>max</th>\n",
       "    </tr>\n",
       "  </thead>\n",
       "  <tbody>\n",
       "    <tr>\n",
       "      <th>nperpcap</th>\n",
       "      <td>108901.0</td>\n",
       "      <td>0.098851</td>\n",
       "      <td>1.754319</td>\n",
       "      <td>0.0</td>\n",
       "      <td>0.0</td>\n",
       "      <td>0.0</td>\n",
       "      <td>0.0</td>\n",
       "      <td>406.000000</td>\n",
       "    </tr>\n",
       "    <tr>\n",
       "      <th>nkill</th>\n",
       "      <td>108901.0</td>\n",
       "      <td>0.735163</td>\n",
       "      <td>6.090337</td>\n",
       "      <td>-0.5</td>\n",
       "      <td>-0.5</td>\n",
       "      <td>0.0</td>\n",
       "      <td>0.5</td>\n",
       "      <td>784.500000</td>\n",
       "    </tr>\n",
       "    <tr>\n",
       "      <th>nkillus</th>\n",
       "      <td>108901.0</td>\n",
       "      <td>0.037089</td>\n",
       "      <td>5.793346</td>\n",
       "      <td>0.0</td>\n",
       "      <td>0.0</td>\n",
       "      <td>0.0</td>\n",
       "      <td>0.0</td>\n",
       "      <td>1360.000000</td>\n",
       "    </tr>\n",
       "    <tr>\n",
       "      <th>nkillter</th>\n",
       "      <td>108901.0</td>\n",
       "      <td>0.501382</td>\n",
       "      <td>4.218098</td>\n",
       "      <td>0.0</td>\n",
       "      <td>0.0</td>\n",
       "      <td>0.0</td>\n",
       "      <td>0.0</td>\n",
       "      <td>500.000000</td>\n",
       "    </tr>\n",
       "    <tr>\n",
       "      <th>nwound</th>\n",
       "      <td>108901.0</td>\n",
       "      <td>1.167960</td>\n",
       "      <td>13.231184</td>\n",
       "      <td>0.0</td>\n",
       "      <td>0.0</td>\n",
       "      <td>0.0</td>\n",
       "      <td>1.0</td>\n",
       "      <td>2730.333333</td>\n",
       "    </tr>\n",
       "    <tr>\n",
       "      <th>nwoundus</th>\n",
       "      <td>108901.0</td>\n",
       "      <td>0.014141</td>\n",
       "      <td>0.717640</td>\n",
       "      <td>0.0</td>\n",
       "      <td>0.0</td>\n",
       "      <td>0.0</td>\n",
       "      <td>0.0</td>\n",
       "      <td>151.000000</td>\n",
       "    </tr>\n",
       "    <tr>\n",
       "      <th>nwoundte</th>\n",
       "      <td>108901.0</td>\n",
       "      <td>0.106115</td>\n",
       "      <td>1.498207</td>\n",
       "      <td>0.0</td>\n",
       "      <td>0.0</td>\n",
       "      <td>0.0</td>\n",
       "      <td>0.0</td>\n",
       "      <td>200.000000</td>\n",
       "    </tr>\n",
       "  </tbody>\n",
       "</table>\n",
       "</div>"
      ],
      "text/plain": [
       "             count      mean        std  min  25%  50%  75%          max\n",
       "nperpcap  108901.0  0.098851   1.754319  0.0  0.0  0.0  0.0   406.000000\n",
       "nkill     108901.0  0.735163   6.090337 -0.5 -0.5  0.0  0.5   784.500000\n",
       "nkillus   108901.0  0.037089   5.793346  0.0  0.0  0.0  0.0  1360.000000\n",
       "nkillter  108901.0  0.501382   4.218098  0.0  0.0  0.0  0.0   500.000000\n",
       "nwound    108901.0  1.167960  13.231184  0.0  0.0  0.0  1.0  2730.333333\n",
       "nwoundus  108901.0  0.014141   0.717640  0.0  0.0  0.0  0.0   151.000000\n",
       "nwoundte  108901.0  0.106115   1.498207  0.0  0.0  0.0  0.0   200.000000"
      ]
     },
     "execution_count": 8,
     "metadata": {},
     "output_type": "execute_result"
    }
   ],
   "source": [
    "scaler = preprocessing.RobustScaler()\n",
    "\n",
    "# List of numeric attributes\n",
    "scale_attrs = ['nperpcap', 'nkill', 'nkillus', 'nkillter', 'nwound', 'nwoundus', 'nwoundte']\n",
    "\n",
    "# Standardize the attributes in place\n",
    "major_groups[scale_attrs] = scaler.fit_transform(major_groups[scale_attrs])\n",
    "\n",
    "# View the transformation\n",
    "major_groups[scale_attrs].describe().transpose()"
   ]
  },
  {
   "cell_type": "markdown",
   "metadata": {},
   "source": [
    "### 分离属性：gname=Known or Unknown,将带known标签集作为训练集，训练一个多层感知机，预测带unknow标签的数据，训练集为2015年到2016年的数据集\n",
    "Split the major groups into known and unknown."
   ]
  },
  {
   "cell_type": "code",
   "execution_count": 9,
   "metadata": {},
   "outputs": [
    {
     "name": "stdout",
     "output_type": "stream",
     "text": [
      "Known Major Groups: (49852, 40)\n",
      "Unknown Major Groups: (59049, 40)\n"
     ]
    }
   ],
   "source": [
    "# Excluded Unknown groups\n",
    "known_maj_groups = major_groups[gtd_df['gname'] != \"Unknown\"]\n",
    "print(\"Known Major Groups: {}\".format(known_maj_groups.shape))\n",
    "\n",
    "# Only include Unknown groups\n",
    "unknown_maj_groups = major_groups[gtd_df['gname'] == \"Unknown\"]\n",
    "print(\"Unknown Major Groups: {}\".format(unknown_maj_groups.shape))"
   ]
  },
  {
   "cell_type": "code",
   "execution_count": 10,
   "metadata": {},
   "outputs": [
    {
     "name": "stdout",
     "output_type": "stream",
     "text": [
      "_15to16_unKnown Major Groups: (12310, 40)\n",
      "_15to16_Known Major Groups: (15167, 40)\n"
     ]
    }
   ],
   "source": [
    "_15_known_maj_groups=known_maj_groups[gtd_df['iyear']==2015]\n",
    "_16_known_maj_groups=known_maj_groups[gtd_df['iyear']==2016]\n",
    "_15to16_known_maj_groups=_15_known_maj_groups.append(_16_known_maj_groups)\n",
    "_15_unknown_maj_groups=unknown_maj_groups[gtd_df['iyear']==2015]\n",
    "_16_unknown_maj_groups=unknown_maj_groups[gtd_df['iyear']==2016]\n",
    "_15to16_unknown_maj_groups=_15_unknown_maj_groups.append(_16_unknown_maj_groups)\n",
    "_17_unkown_maj_groups=unknown_maj_groups.loc[[201701090031,201702210037,201703120023,201705050009,201705050010,201707010028,201707020006,201708110018,201711010006,201712010003],:]\n",
    "print(\"_15to16_unKnown Major Groups: {}\".format(_15to16_unknown_maj_groups.shape))\n",
    "print(\"_15to16_Known Major Groups: {}\".format(_15to16_known_maj_groups.shape))"
   ]
  },
  {
   "cell_type": "markdown",
   "metadata": {},
   "source": [
    "### 编码目标属性\n",
    "Convert the text values of the terrorist groups to an encoded numeric value for the Multilayer perceptron."
   ]
  },
  {
   "cell_type": "code",
   "execution_count": 11,
   "metadata": {},
   "outputs": [
    {
     "data": {
      "text/plain": [
       "LabelEncoder()"
      ]
     },
     "execution_count": 11,
     "metadata": {},
     "output_type": "execute_result"
    }
   ],
   "source": [
    "# Create the encoder\n",
    "le = preprocessing.LabelEncoder()\n",
    "\n",
    "# Fit the encoder to the target\n",
    "le.fit(_15to16_known_maj_groups['gname'])"
   ]
  },
  {
   "cell_type": "code",
   "execution_count": 12,
   "metadata": {
    "scrolled": false
   },
   "outputs": [
    {
     "data": {
      "text/plain": [
       "152"
      ]
     },
     "execution_count": 12,
     "metadata": {},
     "output_type": "execute_result"
    }
   ],
   "source": [
    "# View the labels\n",
    "len(list(le.classes_))"
   ]
  },
  {
   "cell_type": "code",
   "execution_count": 13,
   "metadata": {},
   "outputs": [
    {
     "data": {
      "text/plain": [
       "15167"
      ]
     },
     "execution_count": 13,
     "metadata": {},
     "output_type": "execute_result"
    }
   ],
   "source": [
    "# View the encoded values for th terrorist group names\n",
    "label_codes = le.transform(_15to16_known_maj_groups['gname'])\n",
    "len(label_codes)"
   ]
  },
  {
   "cell_type": "code",
   "execution_count": 14,
   "metadata": {},
   "outputs": [
    {
     "name": "stderr",
     "output_type": "stream",
     "text": [
      "/home/gray/anaconda3/lib/python3.6/site-packages/sklearn/preprocessing/label.py:151: DeprecationWarning: The truth value of an empty array is ambiguous. Returning False, but in future this will result in an error. Use `array.size > 0` to check that an array is not empty.\n",
      "  if diff:\n"
     ]
    },
    {
     "data": {
      "text/plain": [
       "['Abu Sayyaf Group (ASG)',\n",
       " 'Adan-Abyan Province of the Islamic State',\n",
       " 'Ahrar al-Sham',\n",
       " 'Balochistan Liberation United Front (BLUF)']"
      ]
     },
     "execution_count": 14,
     "metadata": {},
     "output_type": "execute_result"
    }
   ],
   "source": [
    "# Convert some integers into their category names\n",
    "list(le.inverse_transform([0, 1, 2, 27]))"
   ]
  },
  {
   "cell_type": "markdown",
   "metadata": {},
   "source": [
    "### 创建训练集和目标集\n",
    "The original dataset is split into 80% training and 20% testing."
   ]
  },
  {
   "cell_type": "code",
   "execution_count": 15,
   "metadata": {},
   "outputs": [
    {
     "name": "stdout",
     "output_type": "stream",
     "text": [
      "(15167, 586)\n",
      "[100  62  62 ... 141  32  85]\n",
      "(15167,)\n"
     ]
    }
   ],
   "source": [
    "# Seed for reproducible results\n",
    "seed = 1009\n",
    "\n",
    "# Predictor variables\n",
    "X = pd.get_dummies(_15to16_known_maj_groups.drop(['gname'], axis=1), drop_first=True)\n",
    "print(X.shape)\n",
    "# Labels\n",
    "y = label_codes\n",
    "print(y)\n",
    "print(y.shape)\n",
    "# Create an 80/20 split for training and testing data\n",
    "X_train, X_test, y_train, y_test = train_test_split(X, y, test_size = 0.2, random_state = seed)"
   ]
  },
  {
   "cell_type": "markdown",
   "metadata": {},
   "source": [
    "### 训练模型"
   ]
  },
  {
   "cell_type": "code",
   "execution_count": 19,
   "metadata": {},
   "outputs": [
    {
     "name": "stdout",
     "output_type": "stream",
     "text": [
      "Iteration 1, loss = 7.60899060\n",
      "Iteration 2, loss = 3.31635744\n",
      "Iteration 3, loss = 2.95263077\n",
      "Iteration 4, loss = 2.55800719\n",
      "Iteration 5, loss = 2.17297362\n",
      "Iteration 6, loss = 1.88984710\n",
      "Iteration 7, loss = 1.64039806\n",
      "Iteration 8, loss = 1.43918915\n",
      "Iteration 9, loss = 1.27202362\n",
      "Iteration 10, loss = 1.12553786\n",
      "Iteration 11, loss = 1.04415663\n",
      "Iteration 12, loss = 0.94291013\n",
      "Iteration 13, loss = 0.88446832\n",
      "Iteration 14, loss = 0.83700353\n",
      "Iteration 15, loss = 0.78702122\n",
      "Iteration 16, loss = 0.74966790\n",
      "Iteration 17, loss = 0.70165861\n",
      "Iteration 18, loss = 0.66113556\n",
      "Iteration 19, loss = 0.62825122\n",
      "Iteration 20, loss = 0.61940573\n",
      "Iteration 21, loss = 0.59046453\n",
      "Iteration 22, loss = 0.56386068\n",
      "Iteration 23, loss = 0.58257455\n",
      "Iteration 24, loss = 0.54550576\n",
      "Iteration 25, loss = 0.50265419\n",
      "Iteration 26, loss = 0.49137459\n",
      "Iteration 27, loss = 0.49147913\n",
      "Iteration 28, loss = 0.46408811\n",
      "Iteration 29, loss = 0.46227947\n",
      "Iteration 30, loss = 0.45000796\n",
      "Iteration 31, loss = 0.42351932\n",
      "Iteration 32, loss = 0.42577354\n",
      "Iteration 33, loss = 0.40053241\n",
      "Iteration 34, loss = 0.42051458\n",
      "Iteration 35, loss = 0.41419907\n",
      "Iteration 36, loss = 0.39001142\n",
      "Iteration 37, loss = 0.39068749\n",
      "Iteration 38, loss = 0.37308680\n",
      "Iteration 39, loss = 0.36679574\n",
      "Iteration 40, loss = 0.37009363\n",
      "Iteration 41, loss = 0.36023693\n",
      "Iteration 42, loss = 0.37173910\n",
      "Iteration 43, loss = 0.37168579\n",
      "Iteration 44, loss = 0.34701974\n",
      "Iteration 45, loss = 0.35637163\n",
      "Iteration 46, loss = 0.34650446\n",
      "Iteration 47, loss = 0.32140567\n",
      "Iteration 48, loss = 0.33449595\n",
      "Iteration 49, loss = 0.34500378\n",
      "Iteration 50, loss = 0.33215437\n",
      "Training loss did not improve more than tol=0.000100 for two consecutive epochs. Stopping.\n"
     ]
    },
    {
     "data": {
      "text/plain": [
       "MLPClassifier(activation='relu', alpha=1e-05, batch_size='auto', beta_1=0.9,\n",
       "       beta_2=0.999, early_stopping=False, epsilon=1e-08,\n",
       "       hidden_layer_sizes=(80, 160, 250), learning_rate='constant',\n",
       "       learning_rate_init=0.001, max_iter=200, momentum=0.9,\n",
       "       nesterovs_momentum=True, power_t=0.5, random_state=1, shuffle=True,\n",
       "       solver='adam', tol=0.0001, validation_fraction=0.1, verbose=True,\n",
       "       warm_start=False)"
      ]
     },
     "execution_count": 19,
     "metadata": {},
     "output_type": "execute_result"
    }
   ],
   "source": [
    "from sklearn.neural_network import MLPClassifier\n",
    "clf = MLPClassifier(solver='adam',alpha=1e-5,hidden_layer_sizes=(80,160,250),random_state=1,verbose=True)\n",
    "clf.fit(X_train,y_train)"
   ]
  },
  {
   "cell_type": "markdown",
   "metadata": {},
   "source": [
    "### 预测测试集的标签"
   ]
  },
  {
   "cell_type": "code",
   "execution_count": 26,
   "metadata": {},
   "outputs": [],
   "source": [
    "y_pred=clf.predict(X_test)"
   ]
  },
  {
   "cell_type": "code",
   "execution_count": 22,
   "metadata": {},
   "outputs": [
    {
     "data": {
      "text/plain": [
       "array([0.96746934, 0.01781963, 0.00369832, 0.00640053, 0.00257257])"
      ]
     },
     "execution_count": 22,
     "metadata": {},
     "output_type": "execute_result"
    }
   ],
   "source": [
    "import heapq\n",
    "heapq.nlargest(5, range(len(y_pred[0])), y_pred[0].take) \n",
    "y_pred[0][[56, 121, 136, 1, 128]]"
   ]
  },
  {
   "cell_type": "code",
   "execution_count": 23,
   "metadata": {},
   "outputs": [
    {
     "data": {
      "text/plain": [
       "0.9674693448941377"
      ]
     },
     "execution_count": 23,
     "metadata": {},
     "output_type": "execute_result"
    }
   ],
   "source": [
    "y_pred[0][(np.argmax(y_pred[0]))]"
   ]
  },
  {
   "cell_type": "code",
   "execution_count": 27,
   "metadata": {},
   "outputs": [
    {
     "data": {
      "text/plain": [
       "array([ 56,  80,  31, ...,  71,  62, 112])"
      ]
     },
     "execution_count": 27,
     "metadata": {},
     "output_type": "execute_result"
    }
   ],
   "source": [
    "y_test"
   ]
  },
  {
   "cell_type": "code",
   "execution_count": 28,
   "metadata": {},
   "outputs": [
    {
     "data": {
      "text/plain": [
       "array([ 56,  80,  31, ...,   6,  62, 112])"
      ]
     },
     "execution_count": 28,
     "metadata": {},
     "output_type": "execute_result"
    }
   ],
   "source": [
    "y_pred"
   ]
  },
  {
   "cell_type": "markdown",
   "metadata": {},
   "source": [
    "### 评估模型的预测能力（avg / total       0.86      0.87      0.85      3034）接近90%的准确率"
   ]
  },
  {
   "cell_type": "code",
   "execution_count": 29,
   "metadata": {},
   "outputs": [
    {
     "name": "stdout",
     "output_type": "stream",
     "text": [
      "[[11  0  0 ...  0  0  0]\n",
      " [ 0  6  0 ...  0  0  0]\n",
      " [ 0  0  0 ...  0  0  0]\n",
      " ...\n",
      " [ 0  0  0 ...  6  0  0]\n",
      " [ 0  0  0 ...  0  0  0]\n",
      " [ 0  0  0 ...  0  0  0]]\n",
      "             precision    recall  f1-score   support\n",
      "\n",
      "          0       1.00      0.34      0.51        32\n",
      "          1       0.75      0.86      0.80         7\n",
      "          2       0.00      0.00      0.00         6\n",
      "          3       0.00      0.00      0.00         2\n",
      "          4       0.00      0.00      0.00         2\n",
      "          5       1.00      1.00      1.00         1\n",
      "          6       0.46      0.97      0.62        31\n",
      "          7       0.93      0.98      0.95        41\n",
      "          8       0.62      0.89      0.73         9\n",
      "          9       0.99      1.00      1.00       194\n",
      "         10       1.00      0.53      0.70        30\n",
      "         11       0.60      0.75      0.67         4\n",
      "         12       0.00      0.00      0.00         1\n",
      "         13       0.70      1.00      0.82         7\n",
      "         14       0.67      0.40      0.50         5\n",
      "         16       0.75      0.60      0.67         5\n",
      "         18       0.00      0.00      0.00         1\n",
      "         19       0.00      0.00      0.00         1\n",
      "         20       1.00      0.91      0.95        11\n",
      "         21       0.67      1.00      0.80         2\n",
      "         23       0.00      0.00      0.00        11\n",
      "         24       0.34      0.92      0.50        13\n",
      "         25       0.00      0.00      0.00         1\n",
      "         26       1.00      0.33      0.50        18\n",
      "         28       0.00      0.00      0.00         4\n",
      "         29       0.50      0.17      0.25        30\n",
      "         30       0.00      0.00      0.00         3\n",
      "         31       0.71      0.91      0.80        22\n",
      "         32       0.99      1.00      0.99       156\n",
      "         34       0.00      0.00      0.00         1\n",
      "         35       0.92      0.79      0.85        42\n",
      "         36       1.00      0.80      0.89         5\n",
      "         39       0.00      0.00      0.00         0\n",
      "         41       0.40      0.91      0.56        11\n",
      "         42       0.67      0.67      0.67         3\n",
      "         43       0.50      0.12      0.20         8\n",
      "         44       0.73      0.98      0.84        59\n",
      "         45       0.00      0.00      0.00         0\n",
      "         47       0.00      0.00      0.00        13\n",
      "         48       0.96      0.94      0.95        53\n",
      "         49       0.36      1.00      0.53        10\n",
      "         50       0.00      0.00      0.00         3\n",
      "         51       0.57      0.44      0.50         9\n",
      "         52       0.00      0.00      0.00         1\n",
      "         53       0.00      0.00      0.00         0\n",
      "         55       0.00      0.00      0.00         7\n",
      "         56       0.95      0.98      0.97       120\n",
      "         58       0.00      0.00      0.00         1\n",
      "         59       0.00      0.00      0.00         5\n",
      "         60       1.00      0.75      0.86         4\n",
      "         61       0.33      1.00      0.50         2\n",
      "         62       0.99      0.98      0.99       551\n",
      "         63       0.00      0.00      0.00         3\n",
      "         64       0.75      0.60      0.67         5\n",
      "         65       0.00      0.00      0.00         1\n",
      "         66       0.00      0.00      0.00         0\n",
      "         67       0.50      0.50      0.50         2\n",
      "         68       0.00      0.00      0.00         5\n",
      "         69       0.00      0.00      0.00         2\n",
      "         70       0.95      1.00      0.98        20\n",
      "         71       0.00      0.00      0.00         4\n",
      "         72       0.56      0.77      0.65        13\n",
      "         74       1.00      0.57      0.73         7\n",
      "         77       0.81      0.85      0.83        34\n",
      "         79       0.75      1.00      0.86         3\n",
      "         80       0.99      0.99      0.99       146\n",
      "         81       0.00      0.00      0.00         5\n",
      "         82       0.00      0.00      0.00         3\n",
      "         83       0.00      0.00      0.00         9\n",
      "         84       0.70      0.88      0.78         8\n",
      "         85       1.00      0.62      0.76        13\n",
      "         86       0.00      0.00      0.00         2\n",
      "         87       0.00      0.00      0.00        20\n",
      "         88       0.99      1.00      1.00       117\n",
      "         89       0.00      0.00      0.00         4\n",
      "         90       0.18      1.00      0.31         2\n",
      "         91       0.00      0.00      0.00         4\n",
      "         93       0.00      0.00      0.00         3\n",
      "         95       0.00      0.00      0.00         2\n",
      "         96       1.00      1.00      1.00         8\n",
      "         97       0.00      0.00      0.00         0\n",
      "         98       1.00      0.67      0.80         3\n",
      "         99       0.00      0.00      0.00         2\n",
      "        100       0.91      0.82      0.86        39\n",
      "        101       0.00      0.00      0.00         3\n",
      "        102       0.75      0.43      0.55        28\n",
      "        105       0.00      0.00      0.00         4\n",
      "        106       0.75      0.75      0.75         4\n",
      "        107       0.00      0.00      0.00         2\n",
      "        108       0.65      1.00      0.78        91\n",
      "        109       0.90      1.00      0.95         9\n",
      "        110       0.00      0.00      0.00         4\n",
      "        111       0.30      1.00      0.46         3\n",
      "        112       0.84      0.94      0.89        68\n",
      "        114       1.00      1.00      1.00         2\n",
      "        115       1.00      0.33      0.50         3\n",
      "        116       1.00      1.00      1.00         3\n",
      "        117       0.33      0.20      0.25         5\n",
      "        118       0.00      0.00      0.00         4\n",
      "        119       0.00      0.00      0.00         2\n",
      "        120       0.00      0.00      0.00         2\n",
      "        122       1.00      0.25      0.40         4\n",
      "        123       0.76      1.00      0.86        19\n",
      "        124       0.52      0.77      0.62        22\n",
      "        126       0.00      0.00      0.00         1\n",
      "        127       1.00      1.00      1.00         2\n",
      "        128       0.82      1.00      0.90        14\n",
      "        129       1.00      0.75      0.86         4\n",
      "        130       0.50      0.67      0.57         3\n",
      "        131       0.94      0.80      0.86        20\n",
      "        132       1.00      1.00      1.00         3\n",
      "        133       0.95      0.98      0.97        62\n",
      "        134       0.00      0.00      0.00         1\n",
      "        136       0.00      0.00      0.00         1\n",
      "        137       0.00      0.00      0.00         2\n",
      "        138       1.00      0.75      0.86         4\n",
      "        139       0.67      1.00      0.80         6\n",
      "        140       0.57      1.00      0.73         4\n",
      "        141       0.99      0.99      0.99       441\n",
      "        142       0.60      0.92      0.73        39\n",
      "        143       0.50      1.00      0.67         1\n",
      "        144       0.83      0.71      0.77         7\n",
      "        145       0.97      0.90      0.93        70\n",
      "        146       1.00      1.00      1.00         3\n",
      "        147       0.17      0.14      0.15         7\n",
      "        149       0.60      0.75      0.67         8\n",
      "        150       0.00      0.00      0.00         1\n",
      "        151       0.00      0.00      0.00         1\n",
      "\n",
      "avg / total       0.86      0.87      0.85      3034\n",
      "\n"
     ]
    }
   ],
   "source": [
    "from sklearn.metrics import classificat#\n",
    "print(classification_report(y_test,y_pred))"
   ]
  },
  {
   "cell_type": "markdown",
   "metadata": {},
   "source": [
    "### 预测表二的10个2017年的数据的恐怖组织（top5)"
   ]
  },
  {
   "cell_type": "code",
   "execution_count": 36,
   "metadata": {},
   "outputs": [],
   "source": [
    "_17_predit=clf.predict_proba(pd.get_dummies(_17_unkown_maj_groups, drop_first=True))"
   ]
  },
  {
   "cell_type": "code",
   "execution_count": 38,
   "metadata": {},
   "outputs": [
    {
     "data": {
      "text/plain": [
       "(10, 151)"
      ]
     },
     "execution_count": 38,
     "metadata": {},
     "output_type": "execute_result"
    }
   ],
   "source": [
    "_17_predit.shape\n"
   ]
  },
  {
   "cell_type": "code",
   "execution_count": 42,
   "metadata": {},
   "outputs": [
    {
     "name": "stdout",
     "output_type": "stream",
     "text": [
      "[99, 143, 130, 72, 125]\n",
      "[130, 143, 25, 99, 125]\n",
      "[48, 137, 143, 99, 130]\n",
      "[143, 48, 137, 99, 130]\n",
      "[143, 48, 137, 99, 130]\n",
      "[48, 143, 99, 130, 114]\n",
      "[99, 143, 130, 18, 14]\n",
      "[130, 143, 99, 125, 25]\n",
      "[130, 143, 25, 99, 125]\n",
      "[99, 143, 130, 125, 72]\n"
     ]
    }
   ],
   "source": [
    "for i in range(10):\n",
    "    print(heapq.nlargest(5, range(len(_17_predit[i])), _17_predit[i].take))"
   ]
  },
  {
   "cell_type": "markdown",
   "metadata": {},
   "source": [
    "### References\n",
    "\n",
    "Albon, C. (2017). Convert Pandas categorical data for scikit-learn Retrieved from https://chrisalbon.com/machine_learning/preprocessing_structured_data/convert_pandas_categorical_column_into_integers_for_scikit-learn/\n",
    "\n",
    "Keen, B. (2017). Feature scaling with scikit-learn Retrieved from http://benalexkeen.com/feature-scaling-with-scikit-learn/\n",
    "\n",
    "Saabas, A. (2014). Selecting good features – Part III: random forests Retrieved from http://blog.datadive.net/selecting-good-features-part-iii-random-forests/\n",
    "\n",
    "scikit-learn. (n.d.). Feature importances with forests of trees Retrieved from http://scikit-learn.org/stable/auto_examples/ensemble/plot_forest_importances.html#sphx-glr-auto-examples-ensemble-plot-forest-importances-py"
   ]
  }
 ],
 "metadata": {
  "kernelspec": {
   "display_name": "Python 3",
   "language": "python",
   "name": "python3"
  },
  "language_info": {
   "codemirror_mode": {
    "name": "ipython",
    "version": 3
   },
   "file_extension": ".py",
   "mimetype": "text/x-python",
   "name": "python",
   "nbconvert_exporter": "python",
   "pygments_lexer": "ipython3",
   "version": "3.6.4"
  }
 },
 "nbformat": 4,
 "nbformat_minor": 2
}
