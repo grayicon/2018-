{
 "cells": [
  {
   "cell_type": "markdown",
   "metadata": {},
   "source": [
    "# 任务四\n",
    "## 武器预测\n",
    "\n",
    "**Author:** solid\n",
    "\n",
    "**Date:** sep 18, 2018"
   ]
  },
  {
   "cell_type": "markdown",
   "metadata": {},
   "source": [
    "### Notebook Configuration"
   ]
  },
  {
   "cell_type": "code",
   "execution_count": 3,
   "metadata": {},
   "outputs": [],
   "source": [
    "import time\n",
    "import pandas as pd\n",
    "import numpy as np\n",
    "import matplotlib as mpl\n",
    "import matplotlib.pyplot as plt\n",
    "import seaborn as sns\n",
    "\n",
    "from sklearn.model_selection import train_test_split\n",
    "from sklearn.neighbors import KNeighborsClassifier\n",
    "from sklearn.metrics import accuracy_score"
   ]
  },
  {
   "cell_type": "code",
   "execution_count": 4,
   "metadata": {},
   "outputs": [],
   "source": [
    "# Display up to 150 rows and columns\n",
    "pd.set_option('display.max_rows', 150)\n",
    "pd.set_option('display.max_columns', 150)\n",
    "\n",
    "# Set the figure size for plots\n",
    "mpl.rcParams['figure.figsize'] = (14.6, 9.0)\n",
    "\n",
    "# Set the Seaborn default style for plots\n",
    "sns.set()\n",
    "\n",
    "# Set the color palette\n",
    "sns.set_palette(sns.color_palette(\"muted\"))"
   ]
  },
  {
   "cell_type": "markdown",
   "metadata": {},
   "source": [
    "### Load the Datasets\n",
    "Load the dataset created by the EDA notebook."
   ]
  },
  {
   "cell_type": "code",
   "execution_count": 5,
   "metadata": {},
   "outputs": [],
   "source": [
    "# Load the preprocessed GTD dataset\n",
    "gtd_df = pd.read_csv('gtd_eda_98t017.csv', low_memory=False, index_col = 0,\n",
    "                      na_values=[''])"
   ]
  },
  {
   "cell_type": "markdown",
   "metadata": {},
   "source": [
    "### Inspect the Structure\n",
    "The cleansed data frame contains 48 attributes, one of which is used for the data frame index, and 110,844 observations."
   ]
  },
  {
   "cell_type": "code",
   "execution_count": 6,
   "metadata": {},
   "outputs": [
    {
     "name": "stdout",
     "output_type": "stream",
     "text": [
      "<class 'pandas.core.frame.DataFrame'>\n",
      "Int64Index: 113247 entries, 199801010001 to 201712310032\n",
      "Data columns (total 48 columns):\n",
      "iyear               113247 non-null int64\n",
      "imonth              113247 non-null int64\n",
      "iday                113247 non-null int64\n",
      "country_txt         113247 non-null object\n",
      "region_txt          113247 non-null object\n",
      "provstate           113247 non-null object\n",
      "city                113247 non-null object\n",
      "latitude            113247 non-null float64\n",
      "longitude           113247 non-null float64\n",
      "specificity         113247 non-null float64\n",
      "summary             113247 non-null object\n",
      "attacktype1_txt     113247 non-null object\n",
      "targtype1_txt       113247 non-null object\n",
      "targsubtype1_txt    113247 non-null object\n",
      "corp1               113247 non-null object\n",
      "target1             113247 non-null object\n",
      "natlty1_txt         113247 non-null object\n",
      "gname               113247 non-null object\n",
      "nperpcap            113247 non-null float64\n",
      "weaptype1_txt       113247 non-null object\n",
      "weapsubtype1_txt    113247 non-null object\n",
      "nkill               113247 non-null float64\n",
      "nkillus             113247 non-null float64\n",
      "nkillter            113247 non-null float64\n",
      "nwound              113247 non-null float64\n",
      "nwoundus            113247 non-null float64\n",
      "nwoundte            113247 non-null float64\n",
      "scite1              113247 non-null object\n",
      "dbsource            113247 non-null object\n",
      "extended_txt        113247 non-null object\n",
      "vicinity_txt        113247 non-null object\n",
      "crit1_txt           113247 non-null object\n",
      "crit2_txt           113247 non-null object\n",
      "crit3_txt           113247 non-null object\n",
      "doubtterr_txt       113247 non-null object\n",
      "multiple_txt        113247 non-null object\n",
      "success_txt         113247 non-null object\n",
      "suicide_txt         113247 non-null object\n",
      "guncertain1_txt     113247 non-null object\n",
      "individual_txt      113247 non-null object\n",
      "claimed_txt         113247 non-null object\n",
      "property_txt        113247 non-null object\n",
      "ishostkid_txt       113247 non-null object\n",
      "INT_LOG_txt         113247 non-null object\n",
      "INT_IDEO_txt        113247 non-null object\n",
      "INT_MISC_txt        113247 non-null object\n",
      "INT_ANY_txt         113247 non-null object\n",
      "incident_date       113247 non-null object\n",
      "dtypes: float64(10), int64(3), object(35)\n",
      "memory usage: 42.3+ MB\n"
     ]
    }
   ],
   "source": [
    "# Display a summary of the data frame\n",
    "gtd_df.info(verbose = True)"
   ]
  },
  {
   "cell_type": "markdown",
   "metadata": {},
   "source": [
    "### Convert Attributes to Correct Data Type\n",
    "Convert a subset of the data frame attributes to categorical to align with the GTD code book as executed previously in the EDA notebook."
   ]
  },
  {
   "cell_type": "code",
   "execution_count": 7,
   "metadata": {},
   "outputs": [
    {
     "name": "stdout",
     "output_type": "stream",
     "text": [
      "<class 'pandas.core.frame.DataFrame'>\n",
      "Int64Index: 113247 entries, 199801010001 to 201712310032\n",
      "Data columns (total 48 columns):\n",
      "iyear               113247 non-null int64\n",
      "imonth              113247 non-null int64\n",
      "iday                113247 non-null int64\n",
      "country_txt         113247 non-null category\n",
      "region_txt          113247 non-null category\n",
      "provstate           113247 non-null object\n",
      "city                113247 non-null object\n",
      "latitude            113247 non-null float64\n",
      "longitude           113247 non-null float64\n",
      "specificity         113247 non-null category\n",
      "summary             113247 non-null object\n",
      "attacktype1_txt     113247 non-null category\n",
      "targtype1_txt       113247 non-null category\n",
      "targsubtype1_txt    113247 non-null category\n",
      "corp1               113247 non-null object\n",
      "target1             113247 non-null object\n",
      "natlty1_txt         113247 non-null category\n",
      "gname               113247 non-null object\n",
      "nperpcap            113247 non-null float64\n",
      "weaptype1_txt       113247 non-null category\n",
      "weapsubtype1_txt    113247 non-null category\n",
      "nkill               113247 non-null float64\n",
      "nkillus             113247 non-null float64\n",
      "nkillter            113247 non-null float64\n",
      "nwound              113247 non-null float64\n",
      "nwoundus            113247 non-null float64\n",
      "nwoundte            113247 non-null float64\n",
      "scite1              113247 non-null object\n",
      "dbsource            113247 non-null object\n",
      "extended_txt        113247 non-null category\n",
      "vicinity_txt        113247 non-null category\n",
      "crit1_txt           113247 non-null category\n",
      "crit2_txt           113247 non-null category\n",
      "crit3_txt           113247 non-null category\n",
      "doubtterr_txt       113247 non-null category\n",
      "multiple_txt        113247 non-null category\n",
      "success_txt         113247 non-null category\n",
      "suicide_txt         113247 non-null category\n",
      "guncertain1_txt     113247 non-null category\n",
      "individual_txt      113247 non-null category\n",
      "claimed_txt         113247 non-null category\n",
      "property_txt        113247 non-null category\n",
      "ishostkid_txt       113247 non-null category\n",
      "INT_LOG_txt         113247 non-null category\n",
      "INT_IDEO_txt        113247 non-null category\n",
      "INT_MISC_txt        113247 non-null category\n",
      "INT_ANY_txt         113247 non-null category\n",
      "incident_date       113247 non-null datetime64[ns]\n",
      "dtypes: category(27), datetime64[ns](1), float64(9), int64(3), object(8)\n",
      "memory usage: 22.2+ MB\n"
     ]
    }
   ],
   "source": [
    "# List of attributes that are categorical\n",
    "cat_attrs = ['extended_txt', 'country_txt', 'region_txt', 'specificity', 'vicinity_txt',\n",
    "             'crit1_txt', 'crit2_txt', 'crit3_txt', 'doubtterr_txt', 'multiple_txt',\n",
    "             'success_txt', 'suicide_txt', 'attacktype1_txt', 'targtype1_txt', \n",
    "             'targsubtype1_txt', 'natlty1_txt', 'guncertain1_txt', 'individual_txt', \n",
    "             'claimed_txt', 'weaptype1_txt', 'weapsubtype1_txt', 'property_txt', \n",
    "             'ishostkid_txt', 'INT_LOG_txt', 'INT_IDEO_txt','INT_MISC_txt', 'INT_ANY_txt']\n",
    "\n",
    "for cat in cat_attrs:\n",
    "    gtd_df[cat] = gtd_df[cat].astype('category')\n",
    "    \n",
    "\n",
    "# Data time feature added during EDA\n",
    "gtd_df['incident_date'] = pd.to_datetime(gtd_df['incident_date'])\n",
    "\n",
    "# To prevent a mixed data type\n",
    "gtd_df['gname'] = gtd_df['gname'].astype('str')\n",
    "\n",
    "gtd_df.info(verbose = True)"
   ]
  },
  {
   "cell_type": "markdown",
   "metadata": {},
   "source": [
    "### 创建训练集和测试集\n",
    "The original dataset is split into 80% training and 20% testing."
   ]
  },
  {
   "cell_type": "code",
   "execution_count": 8,
   "metadata": {},
   "outputs": [
    {
     "data": {
      "text/plain": [
       "eventid\n",
       "199801010001      Firearms\n",
       "199801010002    Explosives\n",
       "199801010003      Firearms\n",
       "199801020001    Explosives\n",
       "199801020002      Firearms\n",
       "199801040001    Explosives\n",
       "199801040002    Explosives\n",
       "199801050001    Explosives\n",
       "199801050002    Explosives\n",
       "199801050003      Firearms\n",
       "199801050004      Firearms\n",
       "199801060001      Firearms\n",
       "199801060002    Explosives\n",
       "199801060003         Melee\n",
       "199801060004         Melee\n",
       "199801070001    Explosives\n",
       "199801080001         Melee\n",
       "199801080002         Melee\n",
       "199801090001    Explosives\n",
       "199801090002    Explosives\n",
       "199801100001         Melee\n",
       "199801100002    Explosives\n",
       "199801100003      Firearms\n",
       "199801110001    Explosives\n",
       "199801110002      Firearms\n",
       "199801110003      Firearms\n",
       "199801110004    Explosives\n",
       "199801120001    Explosives\n",
       "199801120002    Explosives\n",
       "199801120003    Explosives\n",
       "199801130001    Explosives\n",
       "199801130002         Melee\n",
       "199801130003    Explosives\n",
       "199801140001    Explosives\n",
       "199801140002    Explosives\n",
       "199801150001    Explosives\n",
       "199801170001      Firearms\n",
       "199801170002    Explosives\n",
       "199801170003    Incendiary\n",
       "199801170004    Explosives\n",
       "199801180001      Firearms\n",
       "199801180002      Firearms\n",
       "199801190001      Firearms\n",
       "199801190002      Firearms\n",
       "199801190003    Explosives\n",
       "199801200001    Explosives\n",
       "199801200002    Explosives\n",
       "199801200003         Melee\n",
       "199801200005      Firearms\n",
       "199801210001      Firearms\n",
       "199801210002    Explosives\n",
       "199801210003    Explosives\n",
       "199801210004    Explosives\n",
       "199801210005    Explosives\n",
       "199801210006    Explosives\n",
       "199801220001      Firearms\n",
       "199801230001    Explosives\n",
       "199801230002      Firearms\n",
       "199801240001    Explosives\n",
       "199801240002    Explosives\n",
       "199801240003    Explosives\n",
       "199801250001    Explosives\n",
       "199801250002    Explosives\n",
       "199801250003    Explosives\n",
       "199801250004    Explosives\n",
       "199801250005         Melee\n",
       "199801250006    Explosives\n",
       "199801250007    Incendiary\n",
       "199801250008       Unknown\n",
       "199801260001    Explosives\n",
       "199801260002    Incendiary\n",
       "199801270001    Incendiary\n",
       "199801280001      Firearms\n",
       "199801280002         Melee\n",
       "199801280003       Unknown\n",
       "                   ...    \n",
       "201712280036       Unknown\n",
       "201712280037    Explosives\n",
       "201712280038    Explosives\n",
       "201712280039       Unknown\n",
       "201712280040      Firearms\n",
       "201712280041    Explosives\n",
       "201712280042    Explosives\n",
       "201712290001    Explosives\n",
       "201712290002    Explosives\n",
       "201712290003      Firearms\n",
       "201712290004    Explosives\n",
       "201712290005    Explosives\n",
       "201712290006       Unknown\n",
       "201712290007    Explosives\n",
       "201712290008      Firearms\n",
       "201712290009      Firearms\n",
       "201712290013    Explosives\n",
       "201712290014    Explosives\n",
       "201712290015    Explosives\n",
       "201712290016    Explosives\n",
       "201712290017       Unknown\n",
       "201712290022       Unknown\n",
       "201712290023       Unknown\n",
       "201712290024       Unknown\n",
       "201712290025      Firearms\n",
       "201712290026      Firearms\n",
       "201712290029    Explosives\n",
       "201712290031       Unknown\n",
       "201712290032       Unknown\n",
       "201712300002    Explosives\n",
       "201712300003    Explosives\n",
       "201712300004    Explosives\n",
       "201712300005    Explosives\n",
       "201712300006    Explosives\n",
       "201712300007    Explosives\n",
       "201712300008       Unknown\n",
       "201712300010    Explosives\n",
       "201712300011    Explosives\n",
       "201712300012       Unknown\n",
       "201712300013      Firearms\n",
       "201712300014      Firearms\n",
       "201712300015      Firearms\n",
       "201712300016    Explosives\n",
       "201712300017      Firearms\n",
       "201712300018    Explosives\n",
       "201712300019    Incendiary\n",
       "201712300020    Explosives\n",
       "201712300021    Explosives\n",
       "201712300022      Firearms\n",
       "201712300023      Firearms\n",
       "201712300025       Unknown\n",
       "201712300026    Explosives\n",
       "201712310001    Explosives\n",
       "201712310002    Explosives\n",
       "201712310003       Unknown\n",
       "201712310004    Explosives\n",
       "201712310005    Explosives\n",
       "201712310006    Explosives\n",
       "201712310007       Unknown\n",
       "201712310008    Explosives\n",
       "201712310009    Explosives\n",
       "201712310010      Firearms\n",
       "201712310011    Explosives\n",
       "201712310012      Firearms\n",
       "201712310013    Explosives\n",
       "201712310016    Explosives\n",
       "201712310017    Incendiary\n",
       "201712310018      Firearms\n",
       "201712310019      Firearms\n",
       "201712310020    Explosives\n",
       "201712310022      Firearms\n",
       "201712310029    Explosives\n",
       "201712310030    Incendiary\n",
       "201712310031    Explosives\n",
       "201712310032    Explosives\n",
       "Name: weaptype1_txt, Length: 113247, dtype: category\n",
       "Categories (12, object): [Biological, Chemical, Explosives, Fake Weapons, ..., Radiological, Sabotage Equipment, Unknown, Vehicle (non-explosives)]"
      ]
     },
     "execution_count": 8,
     "metadata": {},
     "output_type": "execute_result"
    }
   ],
   "source": [
    "y = gtd_df['weaptype1_txt']\n",
    "y"
   ]
  },
  {
   "cell_type": "code",
   "execution_count": 9,
   "metadata": {},
   "outputs": [],
   "source": [
    "# Seed for reproducible results\n",
    "seed = 1009\n",
    "\n",
    "# Predictor variables with one hot encoding\n",
    "X = pd.get_dummies(gtd_df[['country_txt', 'region_txt', 'attacktype1_txt', 'nkill']], \n",
    "                   drop_first = True)\n",
    "\n",
    "# Labels\n",
    "y = gtd_df['weaptype1_txt']\n",
    "\n",
    "# Create an 80/20 split for training and testing data\n",
    "X_train, X_test, y_train, y_test = train_test_split(X, y, test_size = 0.2, random_state = seed, stratify = y)"
   ]
  },
  {
   "cell_type": "markdown",
   "metadata": {},
   "source": [
    "# MLT\n",
    "分类模型还是用多层感知机\n",
    "\n",
    "特征向量：['country_txt', 'region_txt', 'attacktype1_txt', 'nkill']\n",
    "\n",
    "标签:['weaptype1_txt']"
   ]
  },
  {
   "cell_type": "code",
   "execution_count": 11,
   "metadata": {},
   "outputs": [
    {
     "name": "stdout",
     "output_type": "stream",
     "text": [
      "Iteration 1, loss = 0.44258105\n",
      "Iteration 2, loss = 0.30393045\n",
      "Iteration 3, loss = 0.29372095\n",
      "Iteration 4, loss = 0.28921724\n",
      "Iteration 5, loss = 0.28594859\n",
      "Iteration 6, loss = 0.28453175\n",
      "Iteration 7, loss = 0.28262204\n",
      "Iteration 8, loss = 0.28242836\n",
      "Iteration 9, loss = 0.28066576\n",
      "Iteration 10, loss = 0.28050794\n",
      "Iteration 11, loss = 0.27790240\n",
      "Iteration 12, loss = 0.27735156\n",
      "Iteration 13, loss = 0.27617326\n",
      "Iteration 14, loss = 0.27478236\n",
      "Iteration 15, loss = 0.27528130\n",
      "Iteration 16, loss = 0.27388115\n",
      "Iteration 17, loss = 0.27307668\n",
      "Iteration 18, loss = 0.27223070\n",
      "Iteration 19, loss = 0.27230448\n",
      "Iteration 20, loss = 0.27193139\n",
      "Iteration 21, loss = 0.27149546\n",
      "Iteration 22, loss = 0.27095504\n",
      "Iteration 23, loss = 0.27040042\n",
      "Iteration 24, loss = 0.27020801\n",
      "Iteration 25, loss = 0.26966740\n",
      "Iteration 26, loss = 0.27003166\n",
      "Iteration 27, loss = 0.26831658\n",
      "Iteration 28, loss = 0.26838990\n",
      "Iteration 29, loss = 0.26836830\n",
      "Iteration 30, loss = 0.26824681\n",
      "Training loss did not improve more than tol=0.000100 for two consecutive epochs. Stopping.\n"
     ]
    },
    {
     "data": {
      "text/plain": [
       "MLPClassifier(activation='relu', alpha=1e-05, batch_size='auto', beta_1=0.9,\n",
       "       beta_2=0.999, early_stopping=False, epsilon=1e-08,\n",
       "       hidden_layer_sizes=(80, 160, 250), learning_rate='constant',\n",
       "       learning_rate_init=0.001, max_iter=200, momentum=0.9,\n",
       "       nesterovs_momentum=True, power_t=0.5, random_state=1, shuffle=True,\n",
       "       solver='adam', tol=0.0001, validation_fraction=0.1, verbose=True,\n",
       "       warm_start=False)"
      ]
     },
     "execution_count": 11,
     "metadata": {},
     "output_type": "execute_result"
    }
   ],
   "source": [
    "from sklearn.neural_network import MLPClassifier\n",
    "clf = MLPClassifier(solver='adam',alpha=1e-5,hidden_layer_sizes=(80,160,250),random_state=1,verbose=True)\n",
    "clf.fit(X_train,y_train)"
   ]
  },
  {
   "cell_type": "markdown",
   "metadata": {},
   "source": [
    "# 评价模型\n",
    "\n",
    "准确率:90%"
   ]
  },
  {
   "cell_type": "code",
   "execution_count": 12,
   "metadata": {},
   "outputs": [],
   "source": [
    "y_pred=clf.predict(X_test)"
   ]
  },
  {
   "cell_type": "code",
   "execution_count": 17,
   "metadata": {},
   "outputs": [
    {
     "name": "stdout",
     "output_type": "stream",
     "text": [
      "                          precision    recall  f1-score   support\n",
      "\n",
      "              Biological       1.00      0.20      0.33         5\n",
      "                Chemical       0.92      0.27      0.42        44\n",
      "              Explosives       0.98      0.95      0.97     12740\n",
      "            Fake Weapons       0.00      0.00      0.00         2\n",
      "                Firearms       0.81      0.92      0.86      6605\n",
      "              Incendiary       0.79      0.81      0.80      1080\n",
      "                   Melee       0.55      0.22      0.31       443\n",
      "                   Other       0.33      0.12      0.17        17\n",
      "            Radiological       1.00      1.00      1.00         2\n",
      "      Sabotage Equipment       0.00      0.00      0.00        20\n",
      "                 Unknown       0.80      0.74      0.76      1670\n",
      "Vehicle (non-explosives)       0.79      0.50      0.61        22\n",
      "\n",
      "             avg / total       0.90      0.90      0.90     22650\n",
      "\n"
     ]
    },
    {
     "name": "stderr",
     "output_type": "stream",
     "text": [
      "/home/gray/anaconda3/lib/python3.6/site-packages/sklearn/metrics/classification.py:1135: UndefinedMetricWarning: Precision and F-score are ill-defined and being set to 0.0 in labels with no predicted samples.\n",
      "  'precision', 'predicted', average, warn_for)\n"
     ]
    }
   ],
   "source": [
    "from sklearn.metrics import classification_report\n",
    "print(classification_report(y_test,y_pred))"
   ]
  },
  {
   "cell_type": "markdown",
   "metadata": {},
   "source": [
    "### References\n",
    "\n",
    "Bowne-Anderson, H. (n.d.). Measuring model performance Retrieved from https://campus.datacamp.com/courses/supervised-learning-with-scikit-learn/classification?ex=9"
   ]
  }
 ],
 "metadata": {
  "kernelspec": {
   "display_name": "Python 3",
   "language": "python",
   "name": "python3"
  },
  "language_info": {
   "codemirror_mode": {
    "name": "ipython",
    "version": 3
   },
   "file_extension": ".py",
   "mimetype": "text/x-python",
   "name": "python",
   "nbconvert_exporter": "python",
   "pygments_lexer": "ipython3",
   "version": "3.6.4"
  }
 },
 "nbformat": 4,
 "nbformat_minor": 2
}
